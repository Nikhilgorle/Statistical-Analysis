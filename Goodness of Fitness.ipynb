{
  "nbformat": 4,
  "nbformat_minor": 0,
  "metadata": {
    "colab": {
      "provenance": []
    },
    "kernelspec": {
      "name": "python3",
      "display_name": "Python 3"
    },
    "language_info": {
      "name": "python"
    }
  },
  "cells": [
    {
      "cell_type": "markdown",
      "source": [
        "UNIT - IV\n",
        "\n",
        "\n"
      ],
      "metadata": {
        "id": "_KomWZa-IRTr"
      }
    },
    {
      "cell_type": "markdown",
      "source": [
        "##CHI - SQUARE TEST\n",
        "\n",
        "GOODNESS OF FIT TEST\n",
        "\n"
      ],
      "metadata": {
        "id": "gDVdD-NyIYIV"
      }
    },
    {
      "cell_type": "markdown",
      "source": [
        "# New Section"
      ],
      "metadata": {
        "id": "fMDeEyCBJA1t"
      }
    },
    {
      "cell_type": "code",
      "source": [
        "from google.colab import drive\n",
        "\n",
        "# Mount Google Drive\n",
        "drive.mount('/content/drive')\n"
      ],
      "metadata": {
        "colab": {
          "base_uri": "https://localhost:8080/"
        },
        "id": "8ht5HHzQJdIX",
        "outputId": "0851675e-bea1-47c1-9df6-3ab53b207a8a"
      },
      "execution_count": null,
      "outputs": [
        {
          "output_type": "stream",
          "name": "stdout",
          "text": [
            "Drive already mounted at /content/drive; to attempt to forcibly remount, call drive.mount(\"/content/drive\", force_remount=True).\n"
          ]
        }
      ]
    },
    {
      "cell_type": "code",
      "source": [
        "url = \"/content/drive/MyDrive/STATISTICS/UNIT-IV/50yearTempIndia.csv\"\n",
        "import pandas as pd\n",
        "\n",
        "data = pd.read_csv(url)\n",
        "print(data)"
      ],
      "metadata": {
        "colab": {
          "base_uri": "https://localhost:8080/"
        },
        "id": "R_73RvccKjQi",
        "outputId": "0ea11ed5-4673-45de-ad81-693a040e3e5c"
      },
      "execution_count": null,
      "outputs": [
        {
          "output_type": "stream",
          "name": "stdout",
          "text": [
            "    Year  Average Temperature (°C)\n",
            "0   1973                     24.28\n",
            "1   1974                     24.33\n",
            "2   1975                     24.52\n",
            "3   1976                     24.49\n",
            "4   1977                     24.63\n",
            "5   1978                     24.72\n",
            "6   1979                     24.81\n",
            "7   1980                     24.90\n",
            "8   1981                     25.00\n",
            "9   1982                     24.95\n",
            "10  1983                     25.07\n",
            "11  1984                     25.18\n",
            "12  1985                     25.27\n",
            "13  1986                     25.37\n",
            "14  1987                     25.45\n",
            "15  1988                     25.54\n",
            "16  1989                     25.62\n",
            "17  1990                     25.70\n",
            "18  1991                     25.78\n",
            "19  1992                     25.87\n",
            "20  1993                     25.95\n",
            "21  1994                     26.04\n",
            "22  1995                     26.12\n",
            "23  1996                     26.20\n",
            "24  1997                     26.29\n",
            "25  1998                     26.38\n",
            "26  1999                     26.46\n",
            "27  2000                     26.55\n",
            "28  2001                     26.63\n",
            "29  2002                     26.72\n",
            "30  2003                     26.80\n",
            "31  2004                     26.88\n",
            "32  2005                     26.96\n",
            "33  2006                     27.04\n",
            "34  2007                     27.12\n",
            "35  2008                     27.21\n",
            "36  2009                     27.30\n",
            "37  2010                     27.39\n",
            "38  2011                     27.47\n",
            "39  2012                     27.56\n",
            "40  2013                     27.64\n",
            "41  2014                     27.73\n",
            "42  2015                     27.81\n",
            "43  2016                     27.90\n",
            "44  2017                     27.99\n",
            "45  2018                     28.08\n",
            "46  2019                     28.16\n",
            "47  2020                     28.24\n",
            "48  2021                     28.33\n",
            "49  2022                     28.42\n"
          ]
        }
      ]
    },
    {
      "cell_type": "markdown",
      "source": [
        "Null Hypothesis(H0): There is a trend over the last 50 years on the average annual temperature of India.\n",
        "\n",
        "Alternate Hypothesis(H1) : There is no signoficant ternd over the last 50 years on the average temperature of India."
      ],
      "metadata": {
        "id": "_ny3QNKJiSQ3"
      }
    },
    {
      "cell_type": "code",
      "execution_count": null,
      "metadata": {
        "id": "gzAAaU-MHn3G",
        "colab": {
          "base_uri": "https://localhost:8080/"
        },
        "outputId": "8080f8ba-2ac3-4309-b031-e8033d60b47a"
      },
      "outputs": [
        {
          "output_type": "stream",
          "name": "stdout",
          "text": [
            "[24.290000000000003, 24.34, 24.53, 24.5, 24.64, 24.73, 24.82, 24.91, 25.01, 24.96, 25.080000000000002, 25.19, 25.28, 25.380000000000003, 25.46, 25.55, 25.630000000000003, 25.71, 25.790000000000003, 25.880000000000003, 25.96, 26.05, 26.130000000000003, 26.21, 26.3, 26.39, 26.470000000000002, 26.560000000000002, 26.64, 26.73, 26.810000000000002, 26.89, 26.970000000000002, 27.05, 27.130000000000003, 27.220000000000002, 27.310000000000002, 27.400000000000002, 27.48, 27.57, 27.650000000000002, 27.740000000000002, 27.82, 27.91, 28.0, 28.09, 28.17, 28.25, 28.34]\n",
            "0.00018666317874567042\n"
          ]
        }
      ],
      "source": [
        "import math\n",
        "\n",
        "alpha = 0.05\n",
        "chi_sq = 0\n",
        "\n",
        "expected = [data[\"Average Temperature (°C)\"][i-1]+0.01 for i in range(1, len(data[\"Average Temperature (°C)\"]))]\n",
        "\n",
        "observed = data[\"Average Temperature (°C)\"].tolist()\n",
        "\n",
        "print(expected)\n",
        "\n",
        "for i in range(0, len(expected)):\n",
        "\n",
        "  chi_sq += math.pow((observed[i] - expected[i]), 2) / expected[i]\n",
        "\n",
        "print(chi_sq)"
      ]
    },
    {
      "cell_type": "code",
      "source": [],
      "metadata": {
        "id": "xIwSUgmzbpih"
      },
      "execution_count": null,
      "outputs": []
    },
    {
      "cell_type": "code",
      "source": [
        "from scipy.stats import chi2\n",
        "\n",
        "# Degrees of freedom\n",
        "df = len(expected)-1\n",
        "\n",
        "# Significance level (alpha)\n",
        "alpha = 0.05\n",
        "\n",
        "# Find the critical chi-square value\n",
        "critical_value = chi2.ppf(1 - alpha, df)\n",
        "\n",
        "print(f'Critical Chi-square value for df = {df} and alpha = {alpha}: {critical_value}')"
      ],
      "metadata": {
        "id": "aq3Nw2fOILpJ",
        "colab": {
          "base_uri": "https://localhost:8080/"
        },
        "outputId": "ca795171-293c-408b-8b2e-74a7e71482df"
      },
      "execution_count": null,
      "outputs": [
        {
          "output_type": "stream",
          "name": "stdout",
          "text": [
            "Critical Chi-square value for df = 48 and alpha = 0.05: 65.17076890356982\n"
          ]
        }
      ]
    },
    {
      "cell_type": "code",
      "source": [
        "if critical_value > chi_sq:\n",
        "  print(\"There is not enough evidence to reject Null Hypothesis\")\n",
        "else:\n",
        "  print(\"There is enough evidence to reject Null Hypothesis\")"
      ],
      "metadata": {
        "id": "cX77g4VZIOZZ",
        "colab": {
          "base_uri": "https://localhost:8080/"
        },
        "outputId": "afc88952-0939-40e2-c85d-53d8a863e9f5"
      },
      "execution_count": null,
      "outputs": [
        {
          "output_type": "stream",
          "name": "stdout",
          "text": [
            "There is not enough evidence to reject Null Hypothesis\n"
          ]
        }
      ]
    },
    {
      "cell_type": "markdown",
      "source": [
        "The Test For Independence\n"
      ],
      "metadata": {
        "id": "BXL3quQMooUA"
      }
    },
    {
      "cell_type": "code",
      "source": [
        "data = pd.read_csv(\"/content/drive/MyDrive/STATISTICS/UNIT-IV/temp_co2_trend.csv\")\n",
        "# print(data)\n",
        "\n",
        "temp = data[\"Global Average Temperature (°C)\"]\n",
        "co2_lvl = data[\"CO2 Levels (ppm)\"]\n",
        "\n",
        "print(temp , co2_lvl)\n",
        "# print(co2_lvl)\n"
      ],
      "metadata": {
        "colab": {
          "base_uri": "https://localhost:8080/"
        },
        "id": "RWSpQtP5oukO",
        "outputId": "da5f7f69-1fce-47b6-96aa-00090a681d25"
      },
      "execution_count": null,
      "outputs": [
        {
          "output_type": "stream",
          "name": "stdout",
          "text": [
            "0     1.93\n",
            "1     1.99\n",
            "2     2.05\n",
            "3     2.11\n",
            "4     2.17\n",
            "5     2.23\n",
            "6     2.29\n",
            "7     2.35\n",
            "8     2.41\n",
            "9     2.47\n",
            "10    2.53\n",
            "11    2.59\n",
            "12    2.65\n",
            "13    2.71\n",
            "14    2.77\n",
            "15    1.47\n",
            "16    1.53\n",
            "17    1.58\n",
            "18    1.63\n",
            "19    1.67\n",
            "Name: Global Average Temperature (°C), dtype: float64 0     408.49\n",
            "1     411.52\n",
            "2     414.55\n",
            "3     417.58\n",
            "4     420.61\n",
            "5     423.64\n",
            "6     426.67\n",
            "7     399.70\n",
            "8     402.73\n",
            "9     405.76\n",
            "10    408.79\n",
            "11    411.82\n",
            "12    414.85\n",
            "13    417.88\n",
            "14    420.91\n",
            "15    423.94\n",
            "16    426.97\n",
            "17    429.99\n",
            "18    433.02\n",
            "19    436.05\n",
            "Name: CO2 Levels (ppm), dtype: float64\n"
          ]
        }
      ]
    },
    {
      "cell_type": "markdown",
      "source": [
        "**Null Hypothesis (H0):** There is no correlation between global temperature and atmospheric carbon dioxide levels.\n",
        "\n",
        "**Alternative Hypothesis (H1):**There is a significant positive or negative correlation between global temperature and atmospheric carbon dioxide levels.\n",
        "\n",
        "\n"
      ],
      "metadata": {
        "id": "zevn5_XqpqT5"
      }
    },
    {
      "cell_type": "code",
      "source": [
        "import math\n",
        "# temp = [100, 80, 20]\n",
        "# co2_lvl = [50, 120, 30]\n",
        "\n",
        "s_temp = temp.sum()\n",
        "s_co2lvl = co2_lvl.sum()\n",
        "\n",
        "# s_temp = sum(temp)\n",
        "# s_co2lvl = sum(co2_lvl)\n",
        "\n",
        "N = s_temp + s_co2lvl\n",
        "\n",
        "chi_sq = 0\n",
        "\n",
        "\n",
        "\n",
        "for i in range(0, len(temp)):\n",
        "  # print(temp[i], co2_lvl[i])\n",
        "  C = temp[i] + co2_lvl[i]\n",
        "\n",
        "  E1 = (s_temp * C)/ N\n",
        "  E2 = (s_co2lvl * C)/N\n",
        "\n",
        "  chi_sq += math.pow((temp[i] - E1), 2)/ E1 + math.pow((co2_lvl[i] - E2), 2)/ E2\n",
        "\n",
        "\n",
        "\n",
        "\n",
        "print(chi_sq)"
      ],
      "metadata": {
        "colab": {
          "base_uri": "https://localhost:8080/"
        },
        "id": "RsLXLUwzqRQ6",
        "outputId": "bf6e5a40-5237-4cb4-c398-866e14b4603d"
      },
      "execution_count": null,
      "outputs": [
        {
          "output_type": "stream",
          "name": "stdout",
          "text": [
            "1.735801871613324\n"
          ]
        }
      ]
    },
    {
      "cell_type": "code",
      "source": [
        "from scipy.stats import chi2\n",
        "\n",
        "# Degrees of freedom\n",
        "df = (len(temp)-1)*1\n",
        "\n",
        "# Significance level (alpha)\n",
        "alpha = 0.05\n",
        "\n",
        "# Find the critical chi-square value\n",
        "critical_value = chi2.ppf(1 - alpha, df)\n",
        "\n",
        "print(f'Critical Chi-square value for df = {df} and alpha = {alpha}: {critical_value}')"
      ],
      "metadata": {
        "colab": {
          "base_uri": "https://localhost:8080/"
        },
        "id": "20FDw_liwvRg",
        "outputId": "68838560-86ae-4f3c-9f26-d7495e562956"
      },
      "execution_count": null,
      "outputs": [
        {
          "output_type": "stream",
          "name": "stdout",
          "text": [
            "Critical Chi-square value for df = 19 and alpha = 0.05: 30.14352720564616\n"
          ]
        }
      ]
    },
    {
      "cell_type": "code",
      "source": [
        "if chi_sq < critical_value:\n",
        "  print(\"There is Enough evidence to reject Null Hypothesis\")\n",
        "else:\n",
        "  print(\"There is not Ennough Evidence to reject Null Hypothesis\")"
      ],
      "metadata": {
        "colab": {
          "base_uri": "https://localhost:8080/"
        },
        "id": "fTriDNdxxDku",
        "outputId": "2fc81888-fc5d-49ed-83eb-1ac39dd74716"
      },
      "execution_count": null,
      "outputs": [
        {
          "output_type": "stream",
          "name": "stdout",
          "text": [
            "There is Enough evidence to reject Null Hypothesis\n"
          ]
        }
      ]
    },
    {
      "cell_type": "markdown",
      "source": [
        "TEST FOE HOMOGENIETY"
      ],
      "metadata": {
        "id": "mwl_kIyOTCJy"
      }
    },
    {
      "cell_type": "markdown",
      "source": [
        "Null Hypothesis(H0): The rain pattern of two places are proportional\n",
        "\n",
        "Alternate Hypothesis(H1): The rain pattern of places are not proportional"
      ],
      "metadata": {
        "id": "K1xWIGsbazJ-"
      }
    },
    {
      "cell_type": "code",
      "source": [
        "import pandas as pd\n",
        "import math\n",
        "\n",
        "file_path1 = \"/content/drive/MyDrive/STATISTICS/UNIT-IV/dharwad_rain.csv\"\n",
        "file_path2 = \"/content/drive/MyDrive/STATISTICS/UNIT-IV/Prayagraj_rain.csv\"\n",
        "\n",
        "data = pd.read_csv(file_path1)\n",
        "print(data)\n",
        "\n",
        "dharwad_rain = data[\"Sum of Rainfall\"].tolist()\n",
        "\n",
        "# rainfall_data = ['157.2 mm', '148.6 mm', '786.8 mm']\n",
        "\n",
        "# Extracting the numeric part and removing 'mm'\n",
        "dharwad_rain = [float(value.split(' ')[0]) for value in dharwad_rain]\n",
        "\n",
        "print(dharwad_rain)\n",
        "\n",
        "data = pd.read_csv(file_path2)\n",
        "print(data)\n",
        "\n",
        "prayagraj_rain = data[\"Sum of Rainfall\"].tolist()\n",
        "\n",
        "# rainfall_data = ['157.2 mm', '148.6 mm', '786.8 mm']\n",
        "\n",
        "# Extracting the numeric part and removing 'mm'\n",
        "prayagraj_rain = [round(float(value.split(' ')[0]), 2) for value in prayagraj_rain]\n",
        "\n",
        "print(prayagraj_rain)"
      ],
      "metadata": {
        "colab": {
          "base_uri": "https://localhost:8080/"
        },
        "id": "ybkDKkDQTE_z",
        "outputId": "9cfa8ee7-c1ae-4cc2-a5c5-a9fac8bd0fb9"
      },
      "execution_count": null,
      "outputs": [
        {
          "output_type": "stream",
          "name": "stdout",
          "text": [
            "  Rainfall Category Sum of Rainfall\n",
            "0      Low Rainfall        157.2 mm\n",
            "1   Medium Rainfall        148.6 mm\n",
            "2     High Rainfall        786.8 mm\n",
            "[157.2, 148.6, 786.8]\n",
            "                  Rainfall Category        Sum of Rainfall\n",
            "0            Low Rainfall (0-50 mm)  132.70000000000002 mm\n",
            "1       Medium Rainfall (51-100 mm)  206.09999999999997 mm\n",
            "2  High Rainfall (101 mm and above)               533.0 mm\n",
            "[132.7, 206.1, 533.0]\n"
          ]
        }
      ]
    },
    {
      "cell_type": "code",
      "source": [
        "C1 = sum(dharwad_rain)\n",
        "C2 = sum(prayagraj_rain)\n",
        "N = C1 + C2\n",
        "print(N)"
      ],
      "metadata": {
        "colab": {
          "base_uri": "https://localhost:8080/"
        },
        "id": "08IlcpNuWMLv",
        "outputId": "196f92f7-2c69-4324-d019-2c5207f544b6"
      },
      "execution_count": null,
      "outputs": [
        {
          "output_type": "stream",
          "name": "stdout",
          "text": [
            "1964.3999999999999\n"
          ]
        }
      ]
    },
    {
      "cell_type": "code",
      "source": [
        "chi_sq = 0\n",
        "\n",
        "for i in range(0, len(dharwad_rain)):\n",
        "\n",
        "  R = dharwad_rain[i] + prayagraj_rain[i]\n",
        "  E1 = (R * C1)/N\n",
        "  E2 = (R * C2)/N\n",
        "\n",
        "  chi_sq += math.pow((dharwad_rain[i] - E1), 2)/E1 + math.pow((prayagraj_rain[i] - E2), 2)/E2\n",
        "\n",
        "print(chi_sq)"
      ],
      "metadata": {
        "colab": {
          "base_uri": "https://localhost:8080/"
        },
        "id": "AFeTjIv2WwxB",
        "outputId": "b0575b57-64cc-42ee-f730-78969a35365f"
      },
      "execution_count": null,
      "outputs": [
        {
          "output_type": "stream",
          "name": "stdout",
          "text": [
            "35.83263701325228\n"
          ]
        }
      ]
    },
    {
      "cell_type": "code",
      "source": [
        "from scipy.stats import chi2\n",
        "\n",
        "# Degrees of freedom\n",
        "df = (len(dharwad_rain)-1)*1\n",
        "\n",
        "# Significance level (alpha)\n",
        "alpha = 0.05\n",
        "\n",
        "# Find the critical chi-square value\n",
        "critical_value = chi2.ppf(1 - alpha, df)\n",
        "\n",
        "print(f'Critical Chi-square value for df = {df} and alpha = {alpha}: {critical_value}')"
      ],
      "metadata": {
        "colab": {
          "base_uri": "https://localhost:8080/"
        },
        "id": "uWYJeE7SWwrm",
        "outputId": "cedd4625-66ca-4c92-92da-8b4b2077d998"
      },
      "execution_count": null,
      "outputs": [
        {
          "output_type": "stream",
          "name": "stdout",
          "text": [
            "Critical Chi-square value for df = 2 and alpha = 0.05: 5.991464547107979\n"
          ]
        }
      ]
    },
    {
      "cell_type": "code",
      "source": [
        "if chi_sq < critical_value:\n",
        "  print(\"There is not enough evidence to reject null hypothesis\")\n",
        "else:\n",
        "  print(\"There is enough evidence to reject null hypothesis\")"
      ],
      "metadata": {
        "colab": {
          "base_uri": "https://localhost:8080/"
        },
        "id": "H-oQoff7adqM",
        "outputId": "cb3794fc-4a31-4c59-ec10-19a78e4fa5e3"
      },
      "execution_count": null,
      "outputs": [
        {
          "output_type": "stream",
          "name": "stdout",
          "text": [
            "There is enough evidence to reject null hypothesis\n"
          ]
        }
      ]
    },
    {
      "cell_type": "markdown",
      "source": [
        "\n",
        "\n",
        "```\n",
        "+----------------------+----------------+---------------+\n",
        "|                      | Rainfall >= 900 | Rainfall < 900|\n",
        "+----------------------+----------------+---------------+\n",
        "| Rice Production >= 100|       4        |        4      |\n",
        "+----------------------+----------------+---------------+\n",
        "| Rice Production < 100 |       3        |        1      |\n",
        "+----------------------+----------------+---------------+\n",
        "\n",
        "```\n",
        "\n"
      ],
      "metadata": {
        "id": "oLR2Xa78eO_f"
      }
    },
    {
      "cell_type": "markdown",
      "source": [
        "Null Hypothesis(H0): There is no relation between amount of rainfall and rice prodiction\n",
        "\n",
        "\n",
        "Alternate Hypothesis(H1): There is relationn between amount of rainfall and rice production"
      ],
      "metadata": {
        "id": "vF61yDwylMva"
      }
    },
    {
      "cell_type": "markdown",
      "source": [
        "Chi square 2x2 contingency test"
      ],
      "metadata": {
        "id": "LN4sXZvCeith"
      }
    },
    {
      "cell_type": "code",
      "source": [
        "import math\n",
        "product_ab_100 = [4,3]\n",
        "product_b_100 = [4,1]\n",
        "\n",
        "s_r1 = sum(product_ab_100)\n",
        "s_r2 = sum(product_b_100)\n",
        "N = s_r1 + s_r2\n",
        "print(N)\n",
        "chi_sq = (N*(((product_ab_100[0]*product_b_100[1] - product_ab_100[1]*product_b_100[0])**2) - math.pow(N/2,2)))  / ((s_r1 * s_r2)*(product_ab_100[0]*product_b_100[0])*(product_ab_100[1]*product_b_100[1]))\n",
        "\n",
        "print(chi_sq)\n"
      ],
      "metadata": {
        "colab": {
          "base_uri": "https://localhost:8080/"
        },
        "id": "nzIj6jhoeiVY",
        "outputId": "deaad18b-c309-4ad1-f957-964f57dfc3af"
      },
      "execution_count": null,
      "outputs": [
        {
          "output_type": "stream",
          "name": "stdout",
          "text": [
            "12\n",
            "0.2\n"
          ]
        }
      ]
    },
    {
      "cell_type": "code",
      "source": [
        "from scipy.stats import chi2\n",
        "\n",
        "# Degrees of freedom\n",
        "df = 1\n",
        "\n",
        "# Significance level (alpha)\n",
        "alpha = 0.05\n",
        "\n",
        "# Find the critical chi-square value\n",
        "critical_value = chi2.ppf(1 - alpha, df)\n",
        "\n",
        "print(f'Critical Chi-square value for df = {df} and alpha = {alpha}: {critical_value}')"
      ],
      "metadata": {
        "colab": {
          "base_uri": "https://localhost:8080/"
        },
        "id": "yhjA-Q6MjAn4",
        "outputId": "a11038db-a02c-4ff9-bcb5-447b9bf7e0e4"
      },
      "execution_count": null,
      "outputs": [
        {
          "output_type": "stream",
          "name": "stdout",
          "text": [
            "Critical Chi-square value for df = 1 and alpha = 0.05: 3.841458820694124\n"
          ]
        }
      ]
    },
    {
      "cell_type": "code",
      "source": [
        "if chi_sq < critical_value:\n",
        "  print(\"There is not enough evidence to reject null hypothesis\")\n",
        "else:\n",
        "  print(\"there is enough evidence to reject null hypothesis\")"
      ],
      "metadata": {
        "colab": {
          "base_uri": "https://localhost:8080/"
        },
        "id": "HgRW1Mw1jCtv",
        "outputId": "bd6192f4-ff82-4dd5-e310-f62fdc98ee7b"
      },
      "execution_count": null,
      "outputs": [
        {
          "output_type": "stream",
          "name": "stdout",
          "text": [
            "There is not enough evidence to reject null hypothesis\n"
          ]
        }
      ]
    }
  ]
}