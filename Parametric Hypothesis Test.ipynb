{
 "cells": [
  {
   "cell_type": "markdown",
   "metadata": {},
   "source": [
    "## CASE STUDY-1:\n",
    "\n",
    "## PERFORMING PARAMETRIC HYPOTHESIS TESTS ON CLIMATE CHANGE DATA\n",
    "\n",
    "TEAM MEMBERS:\n",
    "\n",
    "NIKHIL GORLE(21BCS041)\n",
    "\n",
    "ASHISH HIGGINS(21BCS014)\n",
    "\n",
    "KARTHEEK REDDY(21BCS055)\n"
   ]
  },
  {
   "cell_type": "code",
   "execution_count": 73,
   "metadata": {},
   "outputs": [],
   "source": [
    "import pandas as pd\n",
    "import scipy.stats as stats\n",
    "import random\n",
    "import matplotlib.pyplot as plt\n",
    "import seaborn as sns"
   ]
  },
  {
   "cell_type": "code",
   "execution_count": 74,
   "metadata": {},
   "outputs": [],
   "source": [
    "df = pd.read_csv(\"./Climate_change.csv\")"
   ]
  },
  {
   "cell_type": "markdown",
   "metadata": {},
   "source": [
    "## Population Parameters"
   ]
  },
  {
   "cell_type": "markdown",
   "metadata": {},
   "source": [
    "## Hypothesis Testing \n",
    "To tell whether our data supports or rejects our ideas,\n",
    "we use statistical hypothesis testing.\n",
    "\n",
    "H0: Our Global Average Temperature is greater than 12\n",
    "\n",
    "H1:Our Global Average TEmperature less than 12\n",
    "\n",
    "## One sided Test   Z-test"
   ]
  },
  {
   "cell_type": "code",
   "execution_count": 92,
   "metadata": {},
   "outputs": [
    {
     "name": "stdout",
     "output_type": "stream",
     "text": [
      "population mean is: 14.9360337786455\n",
      "sample_mean : 14.6143786322\n",
      "sample_standard_deviation: 5.119699770646967\n",
      "z_test_value : 3.6269915985863155\n",
      "-1.645\n",
      "Reject the null hypothesis (left-tailed test)\n",
      "Confidence Interval: (15.94599891159473, 13.282758352805269)\n"
     ]
    }
   ],
   "source": [
    "# we are performing the z-test\n",
    "import pandas as pd\n",
    "from scipy import stats\n",
    "import statistics\n",
    "import random\n",
    "import math\n",
    "\n",
    "df = pd.read_csv('./Climate_change.csv')\n",
    "population_data = df['Temperature']\n",
    "\n",
    "sample_size = 40\n",
    "\n",
    "sample_data = random.sample(list(population_data), sample_size)\n",
    "\n",
    "\n",
    "print(f\"population mean is: {statistics.mean(population_data)}\")\n",
    "mean = statistics.mean(sample_data)\n",
    "print(f\"sample_mean : {mean}\")\n",
    "standard_deviation = statistics.stdev(sample_data)\n",
    "print(f\"sample_standard_deviation: {standard_deviation}\")\n",
    "\n",
    "\n",
    "null_hypothesis_mean = 12\n",
    "z_test_value =abs(statistics.mean(population_data)-null_hypothesis_mean )/(standard_deviation/math.sqrt(sample_size))\n",
    "print(f\"z_test_value : {z_test_value }\")\n",
    "z_tabulated_value=-1.645\n",
    "print(z_tabulated_value)\n",
    "\n",
    "\n",
    "alpha = 0.05\n",
    "if z_test_value > z_tabulated_value:\n",
    "    print(\"Reject the null hypothesis (left-tailed test)\")\n",
    "else:\n",
    "    print(\"Fail to reject the null hypothesis(left-tailed test)\")\n",
    "\n",
    "\n",
    "\n",
    "# Confidence Interval for the sample\n",
    "confidence_level = 0.95  \n",
    "standard_error = (standard_deviation/math.sqrt(sample_size))\n",
    "margin_of_error = z_tabulated_value*standard_error\n",
    "confidence_interval = (mean - margin_of_error, mean + margin_of_error)\n",
    "\n",
    "print(\"Confidence Interval:\", confidence_interval)\n",
    "\n"
   ]
  },
  {
   "cell_type": "markdown",
   "metadata": {},
   "source": [
    "## TWO SAMPLE HYPOTHESIS TESTING\n",
    "## NULL HYPOTHESIS: H0 -> The mean Temperature of both contries is same\n",
    "## Alternate Hypothesis: Ha-> The mean temperature is not same\n"
   ]
  },
  {
   "cell_type": "code",
   "execution_count": 93,
   "metadata": {},
   "outputs": [
    {
     "name": "stdout",
     "output_type": "stream",
     "text": [
      "[19.73080012, 15.20349695, 16.52579233, 17.65276739, 11.06314258, 23.33385926, 14.04263915, 16.10099295, 12.71661775, 14.31455194, 21.31527958, 14.45209826, 13.81967876, 15.12077702, 14.8190873, 26.266225, 12.04189699, 9.085794596, 23.26623588, 15.38402274, 9.279196908, 10.27555174, 12.23983712, 11.13709968, 14.78964492, 17.17307238, 11.58377763, 12.6774085, 16.31929748, 17.81661216, 8.26408081, 10.047263, 6.65757906, 12.75271839, 17.0408225, 9.506597373, 18.54711883, 23.72081853, 18.74119203, 9.442799623, 17.85729978, 10.10843208, 18.58983166, 18.14201209, 16.23417247, 15.78436724, 18.079771, 16.84847101, 26.49476581, 18.48522728, 20.29350144, 25.08677899, 15.70131562, 10.39074706, 29.23517053]\n",
      "[13.85135274, 15.14631616, 10.08949248, 10.76676998, 12.49770218, 14.25836957, 12.6218749, 15.14344515, 30.24910207, 15.71154571, 13.91628995, 11.6152471, 18.31962894, 17.25089757, 17.1443882, 10.03986342, 16.54109882, 10.54930392, 17.85029439, 21.95988067, 13.80328812, 11.47917521, 14.12041239, 20.06294976, 17.25964124, 5.012568727, 16.70299985, 18.43890098, 19.40587912, 21.89088779, 25.14516676, 7.591038561, 12.29518436, 17.24928, 13.31520704, 16.10071063, 16.56480856, 12.63361422, 17.91441281, 25.06776547, 21.32493193, 11.95624451]\n",
      "55   42\n"
     ]
    }
   ],
   "source": [
    "#taking the temprature values from two countries.\n",
    "import csv\n",
    "target_country = \"Australia\"\n",
    "target_country2 = \"China\"\n",
    "\n",
    "temperature_list = []\n",
    "temperature_list2 = []\n",
    "with open('Climate_change.csv', 'r') as csvfile: \n",
    "    csv_reader = csv.reader(csvfile)\n",
    "\n",
    "    next(csv_reader)\n",
    "    for row in csv_reader:\n",
    "        date, location, country, temperature, co2_emissions, sea_level_rise, precipitation, humidity, wind_speed = row\n",
    "        if country == target_country:\n",
    "            temperature_list.append(float(temperature))\n",
    "        if country == target_country2:\n",
    "            temperature_list2.append(float(temperature))\n",
    "\n",
    "print(temperature_list)\n",
    "print(temperature_list2)\n",
    "\n",
    "print(f\"{len(temperature_list)}   {len(temperature_list2)}\")"
   ]
  },
  {
   "cell_type": "code",
   "execution_count": 77,
   "metadata": {},
   "outputs": [
    {
     "name": "stdout",
     "output_type": "stream",
     "text": [
      "[14.8190873, 23.26623588, 9.506597373, 8.26408081, 25.08677899, 9.085794596, 17.17307238, 17.65276739, 15.20349695, 15.38402274, 15.12077702, 10.10843208, 18.48522728, 12.04189699, 18.14201209, 18.74119203, 12.71661775, 21.31527958, 17.81661216, 17.85729978, 12.75271839, 10.39074706, 6.65757906, 16.84847101, 11.06314258, 10.047263, 26.266225, 16.23417247, 12.6774085, 29.23517053]\n",
      "[21.95988067, 17.85029439, 10.54930392, 12.49770218, 16.70299985, 18.43890098, 12.29518436, 10.03986342, 11.47917521, 7.591038561, 16.54109882, 25.14516676, 21.32493193, 25.06776547, 14.25836957, 13.85135274, 18.31962894, 19.40587912, 10.08949248, 17.1443882, 13.31520704, 12.63361422, 11.95624451, 10.76676998, 17.91441281, 15.14344515, 14.12041239, 30.24910207, 17.24928, 13.91628995]\n",
      "15.6653392923\n",
      "15.927239856366667\n"
     ]
    }
   ],
   "source": [
    "import random\n",
    "random_sample1 = random.sample(list(temperature_list), 30)\n",
    "random_sample2 = random.sample(list(temperature_list2), 30)\n",
    "\n",
    "print(random_sample1)\n",
    "print(random_sample2)\n",
    "\n",
    "print(statistics.mean(random_sample1))\n",
    "print(statistics.mean(random_sample2))"
   ]
  },
  {
   "cell_type": "code",
   "execution_count": 78,
   "metadata": {},
   "outputs": [
    {
     "name": "stdout",
     "output_type": "stream",
     "text": [
      "std_error: 1.3759671497436312\n",
      "Z-tab: 1.9599639845400545\n",
      "Reject the null hypothesis. There is a statistically significant difference between the two sample means.\n",
      "Z-score: -0.1903392563663056\n"
     ]
    }
   ],
   "source": [
    "import math\n",
    "sample1 = random_sample1\n",
    "sample2 = random_sample2\n",
    "\n",
    "mean1 = sum(sample1) / len(sample1)\n",
    "mean2 = sum(sample2) / len(sample2)\n",
    "\n",
    "\n",
    "std1 = math.sqrt(sum([(x - mean1) ** 2 for x in sample1]) / (len(sample1) - 1))\n",
    "std2 = math.sqrt(sum([(x - mean2) ** 2 for x in sample2]) / (len(sample2) - 1))\n",
    "\n",
    "#the standard error of the difference between means\n",
    "std_error = math.sqrt((std1 ** 2 / len(sample1)) + (std2 ** 2 / len(sample2)))\n",
    "print(f\"std_error: {std_error }\")\n",
    "\n",
    "z_score = (mean1 - mean2) / std_error\n",
    "\n",
    "\n",
    "alpha = 0.05\n",
    "\n",
    "# Calculate the critical Z-value for a two-tailed test at the specified alpha level\n",
    "z_tab = abs(stats.norm.ppf(alpha / 2))\n",
    "print(f\"Z-tab: {z_tab}\")\n",
    "\n",
    "\n",
    "if abs(z_score) < z_tab:\n",
    "    print(\"Reject the null hypothesis. There is a statistically significant difference between the two sample means.\")\n",
    "else:\n",
    "    print(\"Fail to reject the null hypothesis. There is no statistically significant difference between the two sample means.\")\n",
    "\n",
    "\n",
    "print(f\"Z-score: {z_score}\")\n",
    "\n"
   ]
  },
  {
   "cell_type": "markdown",
   "metadata": {},
   "source": [
    " T-Test one sample\n",
    "\n",
    "  h0: mean temperature is 12\n",
    "  \n",
    "  h1: mean temperature is not 12"
   ]
  },
  {
   "cell_type": "code",
   "execution_count": 100,
   "metadata": {},
   "outputs": [
    {
     "name": "stdout",
     "output_type": "stream",
     "text": [
      "3.63408948452812\n",
      "P-value: 0.001069616645508506\n",
      "Reject the null hypothesis\n"
     ]
    }
   ],
   "source": [
    "from scipy.stats import ttest_1samp\n",
    "import numpy as np\n",
    "\n",
    "temperatures = sample1\n",
    "mu = 12\n",
    "\n",
    "\n",
    "t_stat, p_value = ttest_1samp(temperatures, mu)\n",
    "print(t_stat)\n",
    "\n",
    "print(f'P-value: {p_value}')\n",
    "\n",
    "\n",
    "if p_value < 0.05:\n",
    "    print('Reject the null hypothesis')\n",
    "else:\n",
    "    print('Fail to reject the null hypothesis')"
   ]
  },
  {
   "cell_type": "markdown",
   "metadata": {},
   "source": [
    " two sample T-test\n",
    "\n",
    " h0: there is significant difference between mean temperature of two samples\n",
    " \n",
    " h1: there is no significance difference"
   ]
  },
  {
   "cell_type": "code",
   "execution_count": 102,
   "metadata": {},
   "outputs": [
    {
     "name": "stdout",
     "output_type": "stream",
     "text": [
      "-0.19033925636630564\n",
      "T-statistic: -0.19033925636630564\n",
      "P-value: 0.8497079361611503\n",
      "There is not enough evidence to reject the null hypothesis.\n"
     ]
    }
   ],
   "source": [
    "import scipy.stats as stats\n",
    "\n",
    "\n",
    "group1_temperatures = random_sample1\n",
    "\n",
    "group2_temperatures = random_sample2\n",
    "\n",
    "\n",
    "t_statistic, p_value = stats.ttest_ind(group1_temperatures, group2_temperatures)\n",
    "print(t_statistic)\n",
    "\n",
    "print(f'T-statistic: {t_statistic}\\nP-value: {p_value}')\n",
    "\n",
    "alpha = 0.05  # significance level\n",
    "if p_value < alpha:\n",
    "    print(\"The difference in mean temperatures between the two groups is statistically significant.\")\n",
    "else:\n",
    "    print(\"There is not enough evidence to reject the null hypothesis.\")\n"
   ]
  },
  {
   "cell_type": "markdown",
   "metadata": {},
   "source": [
    "### **PAIRED T- TEST**\n",
    "H0 -> There is no significant difference in the mean number of humidity occurred before and  after the year 2010\n",
    "\n",
    "H1 -> there is significant difference between the mean number of humidity occurred occurred before and  after the year 2010\n",
    "\n",
    "u1=mean number of temparatures before 2010\n",
    "\n",
    "u2=mean number of casualities on and after 2010\n",
    "\n",
    "H0: u1=u2\n",
    "\n",
    "H1:u1!=u2\n",
    "\n",
    "therefore we have to perform 2 tail paired t test since we are looking at before and after case\n",
    "\n",
    "alpha=5% so  finding the 95% confidence interval"
   ]
  },
  {
   "cell_type": "markdown",
   "metadata": {},
   "source": [
    "### performing simple random sampling from the population of all the common countries humidity before and  after the year 2010"
   ]
  },
  {
   "cell_type": "code",
   "execution_count": 94,
   "metadata": {},
   "outputs": [
    {
     "name": "stdout",
     "output_type": "stream",
     "text": [
      "[31.35600534, 64.89785844, 90.57309678, 7.45580995, 63.58459154, 29.24018516, 98.88957197, 99.59177143, 20.65896322, 39.69206562, 48.91496036, 80.8809696, 77.13861438, 80.23973728, 91.18250018]\n",
      "[73.6855825, 93.76460443, 61.43392145, 1.077510852, 83.80961046, 62.64605615, 68.46897993, 84.98796773, 93.73166724, 1.542090818, 63.6729169, 51.62090558, 41.12565906, 83.1313789, 36.54898528]\n"
     ]
    }
   ],
   "source": [
    "import csv\n",
    "\n",
    "humidity_b2010= []\n",
    "\n",
    "with open('./Climate_change.csv', newline='') as csvfile:\n",
    "    reader = csv.DictReader(csvfile)\n",
    "    count = 0\n",
    "    for row in reader:\n",
    "        if row['Country'] == 'India':\n",
    "            count += 1\n",
    "            if count <= 4719 and len(humidity_b2010) < 15:\n",
    "                humidity = row['Humidity']\n",
    "                humidity_b2010.append(float(humidity))\n",
    "print(humidity_b2010)\n",
    "\n",
    "import csv\n",
    "\n",
    "humidity_a2010 = []\n",
    "\n",
    "with open('./Climate_change.csv', newline='') as csvfile:\n",
    "    reader = csv.DictReader(csvfile)\n",
    "    count = 0\n",
    "    for row in reader:\n",
    "        if row['Country'] == 'India':\n",
    "            count += 1\n",
    "            if count > 15 and len(humidity_a2010) < 15:\n",
    "                humidity = row['Humidity']\n",
    "                humidity_a2010.append(float(humidity))\n",
    "print(humidity_a2010)"
   ]
  },
  {
   "cell_type": "markdown",
   "metadata": {},
   "source": [
    "### Calculating difference between the humidity for each of the countries in the sample and also finding the value of the difference square :"
   ]
  },
  {
   "cell_type": "code",
   "execution_count": 95,
   "metadata": {},
   "outputs": [],
   "source": [
    "D=[]\n",
    "sample_size=15\n",
    "for i in range(len(humidity_b2010)):\n",
    "  D.append(humidity_b2010[i]-humidity_a2010[i])\n",
    "\n",
    "D_sq=[]\n",
    "for i in D:\n",
    "  D_sq.append(i**2)\n",
    "n=sample_size"
   ]
  },
  {
   "cell_type": "markdown",
   "metadata": {},
   "source": [
    "# **Applying paired t test formula:**"
   ]
  },
  {
   "cell_type": "code",
   "execution_count": 96,
   "metadata": {},
   "outputs": [
    {
     "name": "stdout",
     "output_type": "stream",
     "text": [
      "t calculated is 0.16459471646087656\n"
     ]
    }
   ],
   "source": [
    "import math\n",
    "import statistics\n",
    "SDd=math.sqrt((n*sum(D_sq)-sum(D)**2)/(n*(n-1)))\n",
    "S=SDd/math.sqrt(n)\n",
    "t=abs(statistics.mean(D)/S)\n",
    "\n",
    "print(\"t calculated is\",t)"
   ]
  },
  {
   "cell_type": "markdown",
   "metadata": {},
   "source": [
    "### from the t table directly setting the value of t absolute : here n=15 so t(15-1)\n",
    "\n",
    "### t absolute = t(14) for 2 tail test at alpha=5% is 2.145"
   ]
  },
  {
   "cell_type": "code",
   "execution_count": 97,
   "metadata": {},
   "outputs": [
    {
     "name": "stdout",
     "output_type": "stream",
     "text": [
      "accept Ho , There is no significant difference in the mean number of humidity occurred before and after the year 2010\n"
     ]
    }
   ],
   "source": [
    "t_tabulated= 2.145\n",
    "if t<=t_tabulated:\n",
    "  print(\"accept Ho , There is no significant difference in the mean number of humidity occurred before and after the year 2010\")\n",
    "else:\n",
    "  print(\"reject Ho , therefore there is significant difference between the mean number of humidity occurred occurred before and after the year 2010\")"
   ]
  },
  {
   "cell_type": "markdown",
   "metadata": {},
   "source": [
    "### Calculating the 95% confidence interval"
   ]
  },
  {
   "cell_type": "code",
   "execution_count": 98,
   "metadata": {},
   "outputs": [
    {
     "name": "stdout",
     "output_type": "stream",
     "text": [
      "the 95% confidence interval is :\n",
      "-18.48827753698986  to  21.56145939965653\n"
     ]
    }
   ],
   "source": [
    "print(\"the 95% confidence interval is :\")\n",
    "\n",
    "print(statistics.mean(D)-(t_tabulated*S),\" to \",statistics.mean(D)+(t_tabulated*S))"
   ]
  },
  {
   "cell_type": "markdown",
   "metadata": {},
   "source": [
    "## Z-Test for Proportions"
   ]
  },
  {
   "cell_type": "markdown",
   "metadata": {},
   "source": [
    "Null Hypothesis(H0): The proportion of countries with avg temperature 8 or above is 70 %\n",
    "\n",
    "Alternate Hypothesis(H1): The proportion of countries with avg temp greater that 8 or above is not 70%\n"
   ]
  },
  {
   "cell_type": "code",
   "execution_count": 103,
   "metadata": {},
   "outputs": [
    {
     "name": "stdout",
     "output_type": "stream",
     "text": [
      "22\n",
      "0.7333333333333333\n",
      "Reject the null hypothesis. The sample proportion is significantly different from 22.\n",
      "Z-statistic: (-3.323533793991404e-16+5.427742588810712j)\n"
     ]
    }
   ],
   "source": [
    "count = 0\n",
    "for i in range(0, len(sample1)):\n",
    "  if i >= 8:\n",
    "    count+=1\n",
    "print(count)\n",
    "print(count/ len(sample1))\n",
    "sample_proportion = 0.7  # Example: 70% success rate\n",
    "\n",
    "population_proportion = count\n",
    "\n",
    "# Define the sample size\n",
    "sample_size =  len(sample1) # Example: 100 trials\n",
    "\n",
    "# Calculate the standard error of the proportion\n",
    "standard_error = ((population_proportion * (1 - population_proportion)) / sample_size) ** 0.5\n",
    "\n",
    "# Calculate the Z-statistic\n",
    "z_statistic = (sample_proportion - population_proportion) / standard_error\n",
    "\n",
    "# Define your significance level (alpha)\n",
    "alpha = 0.05  # Example: 5% significance level\n",
    "\n",
    "# Determine the critical Z-value for your alpha level (two-tailed test)\n",
    "# You can manually look up the value in a Z-table or use a function to do so\n",
    "\n",
    "# For alpha = 0.05 (two-tailed), the critical Z-value is approximately ±1.96\n",
    "\n",
    "# Compare the Z-statistic to the critical Z-value to determine significance\n",
    "if abs(z_statistic) > 1.96:  # Use the critical Z-value for your alpha level\n",
    "    print(f\"Reject the null hypothesis. The sample proportion is significantly different from {population_proportion}.\")\n",
    "else:\n",
    "    print(f\"Fail to reject the null hypothesis. The sample proportion is not significantly different from {population_proportion}.\")\n",
    "\n",
    "# Print the Z-statistic for reference\n",
    "print(f\"Z-statistic: {z_statistic}\")"
   ]
  },
  {
   "cell_type": "markdown",
   "metadata": {},
   "source": [
    "## Two Sample Z - test for proportion\n"
   ]
  },
  {
   "cell_type": "markdown",
   "metadata": {},
   "source": [
    "Null Hypothesis(H0):The proportion of temperatures greater tha 10 is same for two samples\n",
    "\n",
    "Alternate Hypothesis(H1) : The proportiom of two samples is not same"
   ]
  },
  {
   "cell_type": "code",
   "execution_count": 104,
   "metadata": {},
   "outputs": [
    {
     "name": "stdout",
     "output_type": "stream",
     "text": [
      "20\n",
      "0.6666666666666666\n",
      "20\n",
      "0.6666666666666666\n"
     ]
    }
   ],
   "source": [
    "count1 = 0\n",
    "for i in range(0, len(random_sample1)):\n",
    "  if i >= 10:\n",
    "    count1+=1\n",
    "print(count1)\n",
    "print(count1/ len(random_sample1))\n",
    "\n",
    "count2 = 0\n",
    "for i in range(0, len(random_sample2)):\n",
    "  if i >= 10:\n",
    "    count2+=1\n",
    "print(count2)\n",
    "print(count2/ len(random_sample2))"
   ]
  },
  {
   "cell_type": "code",
   "execution_count": 106,
   "metadata": {},
   "outputs": [
    {
     "name": "stdout",
     "output_type": "stream",
     "text": [
      "0.0\n",
      "1.959963984540054\n",
      "Fail to reject the null hypothesis\n"
     ]
    }
   ],
   "source": [
    "import scipy.stats as stats\n",
    "\n",
    "# Sample data\n",
    "sample1 = random_sample1\n",
    "sample2 = random_sample2 \n",
    "\n",
    "# Calculate proportions\n",
    "p1 = sum(x >= 16 for x in sample1) / len(sample1)\n",
    "p2 = sum(x >= 16 for x in sample2) / len(sample2)\n",
    "\n",
    "# Sample sizes\n",
    "n1 = len(sample1)\n",
    "n2 = len(sample2)\n",
    "\n",
    "# Calculate standard error for the difference in proportions\n",
    "SE_diff = ((p1 * (1 - p1) / n1) + (p2 * (1 - p2) / n2)) ** 0.5\n",
    "\n",
    "# Calculate the test statistic (Z-score)\n",
    "Z = (p1 - p2) / SE_diff\n",
    "print(Z)\n",
    "# Define the significance level (alpha) and critical Z-value (two-tailed test)\n",
    "alpha = 0.05\n",
    "critical_z = stats.norm.ppf(1 - alpha / 2)\n",
    "\n",
    "print(critical_z)\n",
    "\n",
    "# Determine whether to reject the null hypothesis\n",
    "if abs(Z) > critical_z:\n",
    "    print(\"Reject the null hypothesis\")\n",
    "else:\n",
    "    print(\"Fail to reject the null hypothesis\")\n",
    "\n",
    "\n"
   ]
  }
 ],
 "metadata": {
  "kernelspec": {
   "display_name": "base",
   "language": "python",
   "name": "python3"
  },
  "language_info": {
   "codemirror_mode": {
    "name": "ipython",
    "version": 3
   },
   "file_extension": ".py",
   "mimetype": "text/x-python",
   "name": "python",
   "nbconvert_exporter": "python",
   "pygments_lexer": "ipython3",
   "version": "3.11.4"
  },
  "orig_nbformat": 4
 },
 "nbformat": 4,
 "nbformat_minor": 2
}
